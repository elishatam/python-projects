{
 "cells": [
  {
   "cell_type": "code",
   "execution_count": 1,
   "metadata": {},
   "outputs": [],
   "source": [
    "from os import path\n",
    "fname = path.expanduser('/Users/elishatam/Documents/Repos/python-projects/Ben Baby Tracker/data/Benjamin Erlien_formula_removeparagraphs.csv')"
   ]
  },
  {
   "cell_type": "markdown",
   "metadata": {},
   "source": [
    "Benjamin Erlien_formula_ET.csv\n",
    "Benjamin Erlien_formula_removeparagraphs.csv"
   ]
  },
  {
   "cell_type": "code",
   "execution_count": 2,
   "metadata": {},
   "outputs": [
    {
     "name": "stdout",
     "output_type": "stream",
     "text": [
      "-rwxr-xr-x@ 1 elishatam  staff    17K May 17 20:46 \u001b[31m/Users/elishatam/Documents/Repos/python-projects/Ben Baby Tracker/data/Benjamin Erlien_formula_removeparagraphs.csv\u001b[m\u001b[m\r\n"
     ]
    }
   ],
   "source": [
    "!ls -lh \"$fname\""
   ]
  },
  {
   "cell_type": "code",
   "execution_count": 3,
   "metadata": {},
   "outputs": [
    {
     "data": {
      "text/plain": [
       "17.326171875"
      ]
     },
     "execution_count": 3,
     "metadata": {},
     "output_type": "execute_result"
    }
   ],
   "source": [
    "path.getsize(fname) / (1<<10)"
   ]
  },
  {
   "cell_type": "code",
   "execution_count": 4,
   "metadata": {},
   "outputs": [
    {
     "name": "stdout",
     "output_type": "stream",
     "text": [
      "Baby,Time,Amount,Note\r\n",
      "Benjamin Erlien,\"8/11/17, 12:04 PM\",1 oz.,\r\n",
      "Benjamin Erlien,\"8/11/17, 7:13 PM\",1.5 oz.,\r\n",
      "Benjamin Erlien,\"8/12/17, 8:10 AM\",1.9 oz.,\r\n",
      "Benjamin Erlien,\"8/12/17, 2:15 PM\",1.5 oz.,\r\n",
      "Benjamin Erlien,\"8/12/17, 9:15 PM\",1.7 oz.,\r\n",
      "Benjamin Erlien,\"8/13/17, 8:45 AM\",1.95 oz.,\r\n",
      "Benjamin Erlien,\"8/13/17, 3:12 PM\",1.3 oz.,\r\n",
      "Benjamin Erlien,\"8/18/17, 2:27 AM\",2 oz.,\r\n",
      "Benjamin Erlien,\"8/19/17, 1:05 AM\",1.7 oz.,\r\n"
     ]
    }
   ],
   "source": [
    "!head \"$fname\""
   ]
  },
  {
   "cell_type": "code",
   "execution_count": 5,
   "metadata": {},
   "outputs": [],
   "source": [
    "import pandas as pd"
   ]
  },
  {
   "cell_type": "code",
   "execution_count": 6,
   "metadata": {},
   "outputs": [],
   "source": [
    "df = pd.read_csv(fname)"
   ]
  },
  {
   "cell_type": "code",
   "execution_count": 7,
   "metadata": {},
   "outputs": [
    {
     "data": {
      "text/plain": [
       "389"
      ]
     },
     "execution_count": 7,
     "metadata": {},
     "output_type": "execute_result"
    }
   ],
   "source": [
    "len(df)"
   ]
  },
  {
   "cell_type": "code",
   "execution_count": 8,
   "metadata": {},
   "outputs": [
    {
     "data": {
      "text/plain": [
       "Index(['Baby', 'Time', 'Amount', 'Note'], dtype='object')"
      ]
     },
     "execution_count": 8,
     "metadata": {},
     "output_type": "execute_result"
    }
   ],
   "source": [
    "df.columns"
   ]
  },
  {
   "cell_type": "code",
   "execution_count": 9,
   "metadata": {},
   "outputs": [
    {
     "name": "stdout",
     "output_type": "stream",
     "text": [
      "<class 'pandas.core.frame.DataFrame'>\n",
      "RangeIndex: 389 entries, 0 to 388\n",
      "Data columns (total 4 columns):\n",
      "Baby      389 non-null object\n",
      "Time      389 non-null object\n",
      "Amount    389 non-null object\n",
      "Note      42 non-null object\n",
      "dtypes: object(4)\n",
      "memory usage: 12.2+ KB\n"
     ]
    }
   ],
   "source": [
    "df.info()"
   ]
  },
  {
   "cell_type": "code",
   "execution_count": 10,
   "metadata": {},
   "outputs": [
    {
     "data": {
      "text/html": [
       "<div>\n",
       "<style scoped>\n",
       "    .dataframe tbody tr th:only-of-type {\n",
       "        vertical-align: middle;\n",
       "    }\n",
       "\n",
       "    .dataframe tbody tr th {\n",
       "        vertical-align: top;\n",
       "    }\n",
       "\n",
       "    .dataframe thead th {\n",
       "        text-align: right;\n",
       "    }\n",
       "</style>\n",
       "<table border=\"1\" class=\"dataframe\">\n",
       "  <thead>\n",
       "    <tr style=\"text-align: right;\">\n",
       "      <th></th>\n",
       "      <th>Baby</th>\n",
       "      <th>Time</th>\n",
       "      <th>Amount</th>\n",
       "      <th>Note</th>\n",
       "    </tr>\n",
       "  </thead>\n",
       "  <tbody>\n",
       "    <tr>\n",
       "      <th>0</th>\n",
       "      <td>Benjamin Erlien</td>\n",
       "      <td>8/11/17, 12:04 PM</td>\n",
       "      <td>1 oz.</td>\n",
       "      <td>NaN</td>\n",
       "    </tr>\n",
       "    <tr>\n",
       "      <th>1</th>\n",
       "      <td>Benjamin Erlien</td>\n",
       "      <td>8/11/17, 7:13 PM</td>\n",
       "      <td>1.5 oz.</td>\n",
       "      <td>NaN</td>\n",
       "    </tr>\n",
       "    <tr>\n",
       "      <th>2</th>\n",
       "      <td>Benjamin Erlien</td>\n",
       "      <td>8/12/17, 8:10 AM</td>\n",
       "      <td>1.9 oz.</td>\n",
       "      <td>NaN</td>\n",
       "    </tr>\n",
       "    <tr>\n",
       "      <th>3</th>\n",
       "      <td>Benjamin Erlien</td>\n",
       "      <td>8/12/17, 2:15 PM</td>\n",
       "      <td>1.5 oz.</td>\n",
       "      <td>NaN</td>\n",
       "    </tr>\n",
       "    <tr>\n",
       "      <th>4</th>\n",
       "      <td>Benjamin Erlien</td>\n",
       "      <td>8/12/17, 9:15 PM</td>\n",
       "      <td>1.7 oz.</td>\n",
       "      <td>NaN</td>\n",
       "    </tr>\n",
       "  </tbody>\n",
       "</table>\n",
       "</div>"
      ],
      "text/plain": [
       "              Baby               Time   Amount Note\n",
       "0  Benjamin Erlien  8/11/17, 12:04 PM    1 oz.  NaN\n",
       "1  Benjamin Erlien   8/11/17, 7:13 PM  1.5 oz.  NaN\n",
       "2  Benjamin Erlien   8/12/17, 8:10 AM  1.9 oz.  NaN\n",
       "3  Benjamin Erlien   8/12/17, 2:15 PM  1.5 oz.  NaN\n",
       "4  Benjamin Erlien   8/12/17, 9:15 PM  1.7 oz.  NaN"
      ]
     },
     "execution_count": 10,
     "metadata": {},
     "output_type": "execute_result"
    }
   ],
   "source": [
    "df.head()"
   ]
  },
  {
   "cell_type": "code",
   "execution_count": 11,
   "metadata": {},
   "outputs": [
    {
     "data": {
      "text/plain": [
       "Baby      object\n",
       "Time      object\n",
       "Amount    object\n",
       "Note      object\n",
       "dtype: object"
      ]
     },
     "execution_count": 11,
     "metadata": {},
     "output_type": "execute_result"
    }
   ],
   "source": [
    "df.dtypes"
   ]
  },
  {
   "cell_type": "code",
   "execution_count": 12,
   "metadata": {},
   "outputs": [],
   "source": [
    "df = pd.read_csv(fname, parse_dates=['Time'])"
   ]
  },
  {
   "cell_type": "code",
   "execution_count": 13,
   "metadata": {},
   "outputs": [
    {
     "data": {
      "text/plain": [
       "Baby              object\n",
       "Time      datetime64[ns]\n",
       "Amount            object\n",
       "Note              object\n",
       "dtype: object"
      ]
     },
     "execution_count": 13,
     "metadata": {},
     "output_type": "execute_result"
    }
   ],
   "source": [
    "df.dtypes"
   ]
  },
  {
   "cell_type": "code",
   "execution_count": 14,
   "metadata": {},
   "outputs": [
    {
     "data": {
      "text/plain": [
       "0     2017-08-11 12:04:00\n",
       "1     2017-08-11 19:13:00\n",
       "2     2017-08-12 08:10:00\n",
       "3     2017-08-12 14:15:00\n",
       "4     2017-08-12 21:15:00\n",
       "5     2017-08-13 08:45:00\n",
       "6     2017-08-13 15:12:00\n",
       "7     2017-08-18 02:27:00\n",
       "8     2017-08-19 01:05:00\n",
       "9     2017-08-22 11:00:00\n",
       "10    2017-08-22 23:15:00\n",
       "11    2017-08-23 07:05:00\n",
       "12    2017-08-23 23:08:00\n",
       "13    2017-08-24 06:39:00\n",
       "14    2017-08-24 10:00:00\n",
       "15    2017-08-24 23:28:00\n",
       "16    2017-08-25 07:45:00\n",
       "17    2017-08-25 21:57:00\n",
       "18    2017-08-26 02:04:00\n",
       "19    2017-08-26 04:25:00\n",
       "20    2017-08-26 14:16:00\n",
       "21    2017-08-26 17:09:00\n",
       "22    2017-08-26 22:45:00\n",
       "23    2017-08-27 05:20:00\n",
       "24    2017-08-27 17:45:00\n",
       "25    2017-08-28 04:20:00\n",
       "26    2017-08-28 06:33:00\n",
       "27    2017-08-28 23:00:00\n",
       "28    2017-08-29 06:35:00\n",
       "29    2017-08-29 15:22:00\n",
       "              ...        \n",
       "359   2018-05-07 11:30:00\n",
       "360   2018-05-07 14:10:00\n",
       "361   2018-05-07 16:40:00\n",
       "362   2018-05-07 19:16:00\n",
       "363   2018-05-08 15:50:00\n",
       "364   2018-05-08 19:09:00\n",
       "365   2018-05-09 07:30:00\n",
       "366   2018-05-09 14:40:00\n",
       "367   2018-05-09 19:30:00\n",
       "368   2018-05-10 10:45:00\n",
       "369   2018-05-10 13:56:00\n",
       "370   2018-05-10 16:26:00\n",
       "371   2018-05-10 22:40:00\n",
       "372   2018-05-11 11:46:00\n",
       "373   2018-05-11 17:25:00\n",
       "374   2018-05-11 20:10:00\n",
       "375   2018-05-12 12:44:00\n",
       "376   2018-05-12 20:01:00\n",
       "377   2018-05-13 09:16:00\n",
       "378   2018-05-13 14:15:00\n",
       "379   2018-05-14 10:13:00\n",
       "380   2018-05-14 15:45:00\n",
       "381   2018-05-14 19:40:00\n",
       "382   2018-05-14 20:05:00\n",
       "383   2018-05-15 15:33:00\n",
       "384   2018-05-15 18:49:00\n",
       "385   2018-05-16 11:30:00\n",
       "386   2018-05-16 14:00:00\n",
       "387   2018-05-16 16:20:00\n",
       "388   2018-05-16 19:15:00\n",
       "Name: Time, Length: 389, dtype: datetime64[ns]"
      ]
     },
     "execution_count": 14,
     "metadata": {},
     "output_type": "execute_result"
    }
   ],
   "source": [
    "df.Time"
   ]
  },
  {
   "cell_type": "code",
   "execution_count": 15,
   "metadata": {},
   "outputs": [
    {
     "data": {
      "text/plain": [
       "RangeIndex(start=0, stop=389, step=1)"
      ]
     },
     "execution_count": 15,
     "metadata": {},
     "output_type": "execute_result"
    }
   ],
   "source": [
    "df.index"
   ]
  },
  {
   "cell_type": "code",
   "execution_count": 16,
   "metadata": {},
   "outputs": [
    {
     "data": {
      "text/plain": [
       "0         1 oz.\n",
       "1       1.5 oz.\n",
       "2       1.9 oz.\n",
       "3       1.5 oz.\n",
       "4       1.7 oz.\n",
       "5      1.95 oz.\n",
       "6       1.3 oz.\n",
       "7         2 oz.\n",
       "8       1.7 oz.\n",
       "9         3 oz.\n",
       "10        2 oz.\n",
       "11      2.5 oz.\n",
       "12      2.8 oz.\n",
       "13      1.5 oz.\n",
       "14      .75 oz.\n",
       "15      2.7 oz.\n",
       "16        2 oz.\n",
       "17        1 oz.\n",
       "18        2 oz.\n",
       "19        3 oz.\n",
       "20      1.3 oz.\n",
       "21      2.7 oz.\n",
       "22        3 oz.\n",
       "23        3 oz.\n",
       "24        3 oz.\n",
       "25        2 oz.\n",
       "26      2.5 oz.\n",
       "27      2.7 oz.\n",
       "28      3.7 oz.\n",
       "29      1.5 oz.\n",
       "         ...   \n",
       "359     4.5 oz.\n",
       "360     7.5 oz.\n",
       "361       8 oz.\n",
       "362       4 oz.\n",
       "363       6 oz.\n",
       "364       7 oz.\n",
       "365       5 oz.\n",
       "366       7 oz.\n",
       "367       6 oz.\n",
       "368       4 oz.\n",
       "369     4.5 oz.\n",
       "370       2 oz.\n",
       "371       6 oz.\n",
       "372       6 oz.\n",
       "373       6 oz.\n",
       "374       5 oz.\n",
       "375       3 oz.\n",
       "376     4.5 oz.\n",
       "377       2 oz.\n",
       "378       6 oz.\n",
       "379       3 oz.\n",
       "380       5 oz.\n",
       "381       2 oz.\n",
       "382       2 oz.\n",
       "383       3 oz.\n",
       "384       4 oz.\n",
       "385       4 oz.\n",
       "386     3.5 oz.\n",
       "387     4.5 oz.\n",
       "388       6 oz.\n",
       "Name: Amount, Length: 389, dtype: object"
      ]
     },
     "execution_count": 16,
     "metadata": {},
     "output_type": "execute_result"
    }
   ],
   "source": [
    "df.Amount"
   ]
  },
  {
   "cell_type": "code",
   "execution_count": 17,
   "metadata": {},
   "outputs": [
    {
     "data": {
      "text/plain": [
       "'1 oz.1.5 oz.1.9 oz.1.5 oz.1.7 oz.1.95 oz.1.3 oz.2 oz.1.7 oz.3 oz.2 oz.2.5 oz.2.8 oz.1.5 oz..75 oz.2.7 oz.2 oz.1 oz.2 oz.3 oz.1.3 oz.2.7 oz.3 oz.3 oz.3 oz.2 oz.2.5 oz.2.7 oz.3.7 oz.1.5 oz.1 oz.3.6 oz.3 oz.2 oz.3 oz.2.5 oz.3 oz.3.5 oz.3.3 oz.3.2 oz.2.2 oz.4 oz.2.5 oz.2 oz.2.5 oz.2.5 oz.1.75 oz.2 oz.3.4 oz.1.9 oz.3.8 oz..2 oz.4 oz.1.5 oz.1.8 oz.1.3 oz.1 oz.2.5 oz.2.5 oz..5 oz.3.2 oz.2 oz.3 oz.2.5 oz.3.8 oz..1 oz.2.1 oz.2.2 oz.2.8 oz.2.6 oz.3.5 oz.1.5 oz.3.5 oz.1 oz.3 oz.2 oz.3.8 oz.2.8 oz.2.7 oz.3 oz.3.1 oz.2 oz.3 oz.2.5 oz.2 oz.2.5 oz.1 oz.1.25 oz.2.5 oz.2.7 oz.2.5 oz.2 oz..5 oz.1 oz.3 oz.2 oz.2 oz.2 oz.2 oz.2.3 oz.3.6 oz.1.6 oz..4 oz.2 oz..5 oz..5 oz.3 oz.2 oz.3 oz..6 oz..25 oz.1.6 oz.1.8 oz.1.2 oz.2 oz.3.25 oz.2 oz.1.3 oz.1.8 oz.2 oz.1.9 oz.1.6 oz.2 oz.2 oz.2 oz.1 oz..5 oz.5.8 oz.4 oz.7 oz.4 oz..1 oz.3 oz.3.5 oz.3 oz.5 oz.3 oz.4 oz.3 oz.4 oz.2 oz.4 oz.1 oz..5 oz.5 oz.4 oz.1.5 oz.1.5 oz.2.5 oz.3 oz.3 oz.2 oz.3.5 oz.1.5 oz.4 oz.2 oz.3 oz.2.5 oz.2.5 oz.5.5 oz.5 oz.6 oz.3.5 oz..5 oz.1.5 oz.1 oz.2 oz..1 oz.2 oz.3.5 oz.4 oz.2.5 oz.5.5 oz.2 oz.6.5 oz.6.5 oz.4.5 oz.2 oz.4 oz.1 oz.3 oz.5 oz.2 oz.4 oz.2 oz.5 oz.2 oz.2 oz.6 oz.3 oz.3 oz.2 oz.4 oz.4 oz.1.5 oz.2.5 oz.1.5 oz.4.5 oz.4 oz.6.5 oz.4 oz.2 oz.2 oz..5 oz.1 oz.1 oz.2 oz.2 oz.2 oz.5 oz.2 oz.4 oz.6 oz.7 oz.1 oz.4 oz.1 oz.3 oz.3.5 oz.6 oz.6 oz.2 oz.1.5 oz.2 oz.2 oz.6.5 oz.5.5 oz.6.5 oz.2 oz.1 oz.2 oz.2 oz.2.5 oz.1.5 oz.3 oz.2 oz.2 oz.2 oz.2 oz.4 oz.5 oz.5 oz.2.5 oz.3 oz.4 oz.4.5 oz.2.5 oz.5 oz.7 oz.6 oz.1 oz.7 oz.3 oz..5 oz..5 oz.5.5 oz.2.5 oz.3 oz.5.5 oz.4 oz.2.5 oz.2 oz.2.5 oz.2.5 oz.3 oz.6.5 oz.6 oz.7 oz.1 oz.4 oz.2 oz.3.5 oz.5 oz.6 oz.4 oz.2 oz.1.5 oz.2.5 oz.5 oz.3.5 oz.2.5 oz.4 oz.2 oz.2 oz.1.5 oz.2 oz.3.5 oz.5 oz.6 oz.2 oz.2.5 oz.4 oz.4 oz.1 oz.4.5 oz.3 oz.4 oz.5 oz.4.5 oz.4.5 oz.1.5 oz.2 oz.5 oz.2 oz.6.5 oz.3 oz.5 oz.6 oz.6 oz.2 oz.4 oz.4.5 oz.3.5 oz.2 oz.7 oz.7 oz.7.5 oz.1.5 oz.8 oz.5.5 oz.8 oz.5 oz.7.5 oz.5 oz.6 oz.4.5 oz.1.5 oz.5 oz.6 oz.3.5 oz.3.5 oz.4 oz.4 oz.4 oz.7 oz.1 oz.2 oz.1.25 oz.7 oz.5 oz.6 oz.2.5 oz.5.5 oz.8 oz.6 oz.8 oz.2.5 oz.5 oz.2 oz.4 oz.2 oz.1 oz.1 oz.5 oz.2.5 oz.6 oz.8 oz.4 oz.2 oz.4.5 oz.7.5 oz.8 oz.4 oz.6 oz.7 oz.5 oz.7 oz.6 oz.4 oz.4.5 oz.2 oz.6 oz.6 oz.6 oz.5 oz.3 oz.4.5 oz.2 oz.6 oz.3 oz.5 oz.2 oz.2 oz.3 oz.4 oz.4 oz.3.5 oz.4.5 oz.6 oz.'"
      ]
     },
     "execution_count": 17,
     "metadata": {},
     "output_type": "execute_result"
    }
   ],
   "source": [
    "df.Amount.sum()"
   ]
  },
  {
   "cell_type": "markdown",
   "metadata": {},
   "source": [
    "To remove 'oz.' from column, do this:\n",
    "   df['Column2'] = df.Column2.str.replace('b,?' , '')\n",
    "   \n",
    "Reference: https://stackoverflow.com/questions/33413249/how-to-remove-string-value-from-column-in-pandas-dataframe"
   ]
  },
  {
   "cell_type": "code",
   "execution_count": 18,
   "metadata": {},
   "outputs": [],
   "source": [
    "df.Amount = df.Amount.str.replace('oz.', '')"
   ]
  },
  {
   "cell_type": "code",
   "execution_count": 19,
   "metadata": {},
   "outputs": [
    {
     "data": {
      "text/plain": [
       "0         1 \n",
       "1       1.5 \n",
       "2       1.9 \n",
       "3       1.5 \n",
       "4       1.7 \n",
       "5      1.95 \n",
       "6       1.3 \n",
       "7         2 \n",
       "8       1.7 \n",
       "9         3 \n",
       "10        2 \n",
       "11      2.5 \n",
       "12      2.8 \n",
       "13      1.5 \n",
       "14      .75 \n",
       "15      2.7 \n",
       "16        2 \n",
       "17        1 \n",
       "18        2 \n",
       "19        3 \n",
       "20      1.3 \n",
       "21      2.7 \n",
       "22        3 \n",
       "23        3 \n",
       "24        3 \n",
       "25        2 \n",
       "26      2.5 \n",
       "27      2.7 \n",
       "28      3.7 \n",
       "29      1.5 \n",
       "       ...  \n",
       "359     4.5 \n",
       "360     7.5 \n",
       "361       8 \n",
       "362       4 \n",
       "363       6 \n",
       "364       7 \n",
       "365       5 \n",
       "366       7 \n",
       "367       6 \n",
       "368       4 \n",
       "369     4.5 \n",
       "370       2 \n",
       "371       6 \n",
       "372       6 \n",
       "373       6 \n",
       "374       5 \n",
       "375       3 \n",
       "376     4.5 \n",
       "377       2 \n",
       "378       6 \n",
       "379       3 \n",
       "380       5 \n",
       "381       2 \n",
       "382       2 \n",
       "383       3 \n",
       "384       4 \n",
       "385       4 \n",
       "386     3.5 \n",
       "387     4.5 \n",
       "388       6 \n",
       "Name: Amount, Length: 389, dtype: object"
      ]
     },
     "execution_count": 19,
     "metadata": {},
     "output_type": "execute_result"
    }
   ],
   "source": [
    "df.Amount"
   ]
  },
  {
   "cell_type": "code",
   "execution_count": 20,
   "metadata": {},
   "outputs": [
    {
     "name": "stderr",
     "output_type": "stream",
     "text": [
      "/anaconda3/lib/python3.6/site-packages/ipykernel_launcher.py:1: FutureWarning: convert_objects is deprecated.  To re-infer data dtypes for object columns, use Series.infer_objects()\n",
      "For all other conversions use the data-type specific converters pd.to_datetime, pd.to_timedelta and pd.to_numeric.\n",
      "  \"\"\"Entry point for launching an IPython kernel.\n"
     ]
    },
    {
     "data": {
      "text/plain": [
       "0      1.00\n",
       "1      1.50\n",
       "2      1.90\n",
       "3      1.50\n",
       "4      1.70\n",
       "5      1.95\n",
       "6      1.30\n",
       "7      2.00\n",
       "8      1.70\n",
       "9      3.00\n",
       "10     2.00\n",
       "11     2.50\n",
       "12     2.80\n",
       "13     1.50\n",
       "14     0.75\n",
       "15     2.70\n",
       "16     2.00\n",
       "17     1.00\n",
       "18     2.00\n",
       "19     3.00\n",
       "20     1.30\n",
       "21     2.70\n",
       "22     3.00\n",
       "23     3.00\n",
       "24     3.00\n",
       "25     2.00\n",
       "26     2.50\n",
       "27     2.70\n",
       "28     3.70\n",
       "29     1.50\n",
       "       ... \n",
       "359    4.50\n",
       "360    7.50\n",
       "361    8.00\n",
       "362    4.00\n",
       "363    6.00\n",
       "364    7.00\n",
       "365    5.00\n",
       "366    7.00\n",
       "367    6.00\n",
       "368    4.00\n",
       "369    4.50\n",
       "370    2.00\n",
       "371    6.00\n",
       "372    6.00\n",
       "373    6.00\n",
       "374    5.00\n",
       "375    3.00\n",
       "376    4.50\n",
       "377    2.00\n",
       "378    6.00\n",
       "379    3.00\n",
       "380    5.00\n",
       "381    2.00\n",
       "382    2.00\n",
       "383    3.00\n",
       "384    4.00\n",
       "385    4.00\n",
       "386    3.50\n",
       "387    4.50\n",
       "388    6.00\n",
       "Name: Amount, Length: 389, dtype: float64"
      ]
     },
     "execution_count": 20,
     "metadata": {},
     "output_type": "execute_result"
    }
   ],
   "source": [
    "df.Amount.convert_objects(convert_numeric=True)"
   ]
  },
  {
   "cell_type": "markdown",
   "metadata": {},
   "source": [
    "http://pandas.pydata.org/pandas-docs/version/0.19/generated/pandas.to_numeric.html"
   ]
  },
  {
   "cell_type": "code",
   "execution_count": 21,
   "metadata": {},
   "outputs": [],
   "source": [
    "df.Amount = pd.to_numeric(df.Amount)"
   ]
  },
  {
   "cell_type": "code",
   "execution_count": 22,
   "metadata": {},
   "outputs": [
    {
     "data": {
      "text/plain": [
       "Baby              object\n",
       "Time      datetime64[ns]\n",
       "Amount           float64\n",
       "Note              object\n",
       "dtype: object"
      ]
     },
     "execution_count": 22,
     "metadata": {},
     "output_type": "execute_result"
    }
   ],
   "source": [
    "df.dtypes"
   ]
  },
  {
   "cell_type": "code",
   "execution_count": 23,
   "metadata": {},
   "outputs": [
    {
     "data": {
      "text/plain": [
       "1244.25"
      ]
     },
     "execution_count": 23,
     "metadata": {},
     "output_type": "execute_result"
    }
   ],
   "source": [
    "df.Amount.sum()"
   ]
  },
  {
   "cell_type": "code",
   "execution_count": 24,
   "metadata": {},
   "outputs": [
    {
     "data": {
      "text/html": [
       "<div>\n",
       "<style scoped>\n",
       "    .dataframe tbody tr th:only-of-type {\n",
       "        vertical-align: middle;\n",
       "    }\n",
       "\n",
       "    .dataframe tbody tr th {\n",
       "        vertical-align: top;\n",
       "    }\n",
       "\n",
       "    .dataframe thead th {\n",
       "        text-align: right;\n",
       "    }\n",
       "</style>\n",
       "<table border=\"1\" class=\"dataframe\">\n",
       "  <thead>\n",
       "    <tr style=\"text-align: right;\">\n",
       "      <th></th>\n",
       "      <th>Baby</th>\n",
       "      <th>Time</th>\n",
       "      <th>Amount</th>\n",
       "      <th>Note</th>\n",
       "    </tr>\n",
       "  </thead>\n",
       "  <tbody>\n",
       "    <tr>\n",
       "      <th>0</th>\n",
       "      <td>Benjamin Erlien</td>\n",
       "      <td>2017-08-11 12:04:00</td>\n",
       "      <td>1.0</td>\n",
       "      <td>NaN</td>\n",
       "    </tr>\n",
       "    <tr>\n",
       "      <th>1</th>\n",
       "      <td>Benjamin Erlien</td>\n",
       "      <td>2017-08-11 19:13:00</td>\n",
       "      <td>1.5</td>\n",
       "      <td>NaN</td>\n",
       "    </tr>\n",
       "    <tr>\n",
       "      <th>2</th>\n",
       "      <td>Benjamin Erlien</td>\n",
       "      <td>2017-08-12 08:10:00</td>\n",
       "      <td>1.9</td>\n",
       "      <td>NaN</td>\n",
       "    </tr>\n",
       "    <tr>\n",
       "      <th>3</th>\n",
       "      <td>Benjamin Erlien</td>\n",
       "      <td>2017-08-12 14:15:00</td>\n",
       "      <td>1.5</td>\n",
       "      <td>NaN</td>\n",
       "    </tr>\n",
       "    <tr>\n",
       "      <th>4</th>\n",
       "      <td>Benjamin Erlien</td>\n",
       "      <td>2017-08-12 21:15:00</td>\n",
       "      <td>1.7</td>\n",
       "      <td>NaN</td>\n",
       "    </tr>\n",
       "  </tbody>\n",
       "</table>\n",
       "</div>"
      ],
      "text/plain": [
       "              Baby                Time  Amount Note\n",
       "0  Benjamin Erlien 2017-08-11 12:04:00     1.0  NaN\n",
       "1  Benjamin Erlien 2017-08-11 19:13:00     1.5  NaN\n",
       "2  Benjamin Erlien 2017-08-12 08:10:00     1.9  NaN\n",
       "3  Benjamin Erlien 2017-08-12 14:15:00     1.5  NaN\n",
       "4  Benjamin Erlien 2017-08-12 21:15:00     1.7  NaN"
      ]
     },
     "execution_count": 24,
     "metadata": {},
     "output_type": "execute_result"
    }
   ],
   "source": [
    "df.head()"
   ]
  },
  {
   "cell_type": "markdown",
   "metadata": {},
   "source": [
    "https://stackoverflow.com/questions/35339139/where-is-the-documentation-on-pandas-freq-tags"
   ]
  },
  {
   "cell_type": "code",
   "execution_count": 25,
   "metadata": {},
   "outputs": [],
   "source": [
    "df.index=df['Time']"
   ]
  },
  {
   "cell_type": "code",
   "execution_count": 26,
   "metadata": {},
   "outputs": [
    {
     "data": {
      "text/plain": [
       "DatetimeIndex(['2017-08-11 12:04:00', '2017-08-11 19:13:00',\n",
       "               '2017-08-12 08:10:00', '2017-08-12 14:15:00',\n",
       "               '2017-08-12 21:15:00', '2017-08-13 08:45:00',\n",
       "               '2017-08-13 15:12:00', '2017-08-18 02:27:00',\n",
       "               '2017-08-19 01:05:00', '2017-08-22 11:00:00',\n",
       "               ...\n",
       "               '2018-05-14 10:13:00', '2018-05-14 15:45:00',\n",
       "               '2018-05-14 19:40:00', '2018-05-14 20:05:00',\n",
       "               '2018-05-15 15:33:00', '2018-05-15 18:49:00',\n",
       "               '2018-05-16 11:30:00', '2018-05-16 14:00:00',\n",
       "               '2018-05-16 16:20:00', '2018-05-16 19:15:00'],\n",
       "              dtype='datetime64[ns]', name='Time', length=389, freq=None)"
      ]
     },
     "execution_count": 26,
     "metadata": {},
     "output_type": "execute_result"
    }
   ],
   "source": [
    "df.index"
   ]
  },
  {
   "cell_type": "code",
   "execution_count": 27,
   "metadata": {},
   "outputs": [
    {
     "data": {
      "text/html": [
       "<div>\n",
       "<style scoped>\n",
       "    .dataframe tbody tr th:only-of-type {\n",
       "        vertical-align: middle;\n",
       "    }\n",
       "\n",
       "    .dataframe tbody tr th {\n",
       "        vertical-align: top;\n",
       "    }\n",
       "\n",
       "    .dataframe thead th {\n",
       "        text-align: right;\n",
       "    }\n",
       "</style>\n",
       "<table border=\"1\" class=\"dataframe\">\n",
       "  <thead>\n",
       "    <tr style=\"text-align: right;\">\n",
       "      <th></th>\n",
       "      <th>Baby</th>\n",
       "      <th>Time</th>\n",
       "      <th>Amount</th>\n",
       "      <th>Note</th>\n",
       "    </tr>\n",
       "    <tr>\n",
       "      <th>Time</th>\n",
       "      <th></th>\n",
       "      <th></th>\n",
       "      <th></th>\n",
       "      <th></th>\n",
       "    </tr>\n",
       "  </thead>\n",
       "  <tbody>\n",
       "    <tr>\n",
       "      <th>2017-08-11 12:04:00</th>\n",
       "      <td>Benjamin Erlien</td>\n",
       "      <td>2017-08-11 12:04:00</td>\n",
       "      <td>1.0</td>\n",
       "      <td>NaN</td>\n",
       "    </tr>\n",
       "    <tr>\n",
       "      <th>2017-08-11 19:13:00</th>\n",
       "      <td>Benjamin Erlien</td>\n",
       "      <td>2017-08-11 19:13:00</td>\n",
       "      <td>1.5</td>\n",
       "      <td>NaN</td>\n",
       "    </tr>\n",
       "    <tr>\n",
       "      <th>2017-08-12 08:10:00</th>\n",
       "      <td>Benjamin Erlien</td>\n",
       "      <td>2017-08-12 08:10:00</td>\n",
       "      <td>1.9</td>\n",
       "      <td>NaN</td>\n",
       "    </tr>\n",
       "    <tr>\n",
       "      <th>2017-08-12 14:15:00</th>\n",
       "      <td>Benjamin Erlien</td>\n",
       "      <td>2017-08-12 14:15:00</td>\n",
       "      <td>1.5</td>\n",
       "      <td>NaN</td>\n",
       "    </tr>\n",
       "    <tr>\n",
       "      <th>2017-08-12 21:15:00</th>\n",
       "      <td>Benjamin Erlien</td>\n",
       "      <td>2017-08-12 21:15:00</td>\n",
       "      <td>1.7</td>\n",
       "      <td>NaN</td>\n",
       "    </tr>\n",
       "  </tbody>\n",
       "</table>\n",
       "</div>"
      ],
      "text/plain": [
       "                                Baby                Time  Amount Note\n",
       "Time                                                                 \n",
       "2017-08-11 12:04:00  Benjamin Erlien 2017-08-11 12:04:00     1.0  NaN\n",
       "2017-08-11 19:13:00  Benjamin Erlien 2017-08-11 19:13:00     1.5  NaN\n",
       "2017-08-12 08:10:00  Benjamin Erlien 2017-08-12 08:10:00     1.9  NaN\n",
       "2017-08-12 14:15:00  Benjamin Erlien 2017-08-12 14:15:00     1.5  NaN\n",
       "2017-08-12 21:15:00  Benjamin Erlien 2017-08-12 21:15:00     1.7  NaN"
      ]
     },
     "execution_count": 27,
     "metadata": {},
     "output_type": "execute_result"
    }
   ],
   "source": [
    "df.head()"
   ]
  },
  {
   "cell_type": "code",
   "execution_count": 28,
   "metadata": {},
   "outputs": [],
   "source": [
    "df1D = df.resample('1D').sum()"
   ]
  },
  {
   "cell_type": "code",
   "execution_count": 29,
   "metadata": {},
   "outputs": [
    {
     "data": {
      "text/plain": [
       "Time\n",
       "2017-08-11     2.50\n",
       "2017-08-12     5.10\n",
       "2017-08-13     3.25\n",
       "2017-08-14     0.00\n",
       "2017-08-15     0.00\n",
       "2017-08-16     0.00\n",
       "2017-08-17     0.00\n",
       "2017-08-18     2.00\n",
       "2017-08-19     1.70\n",
       "2017-08-20     0.00\n",
       "2017-08-21     0.00\n",
       "2017-08-22     5.00\n",
       "2017-08-23     5.30\n",
       "2017-08-24     4.95\n",
       "2017-08-25     3.00\n",
       "2017-08-26    12.00\n",
       "2017-08-27     6.00\n",
       "2017-08-28     7.20\n",
       "2017-08-29     6.20\n",
       "2017-08-30    14.10\n",
       "2017-08-31    13.00\n",
       "2017-09-01    13.20\n",
       "2017-09-02    11.55\n",
       "2017-09-03    13.60\n",
       "2017-09-04    10.70\n",
       "2017-09-05     9.30\n",
       "2017-09-06     9.80\n",
       "2017-09-07     8.50\n",
       "2017-09-08     9.80\n",
       "2017-09-09     8.50\n",
       "              ...  \n",
       "2018-04-17    11.50\n",
       "2018-04-18    21.00\n",
       "2018-04-19    15.00\n",
       "2018-04-20    14.50\n",
       "2018-04-21    18.00\n",
       "2018-04-22    10.00\n",
       "2018-04-23    21.50\n",
       "2018-04-24    15.00\n",
       "2018-04-25    20.50\n",
       "2018-04-26    15.50\n",
       "2018-04-27    12.50\n",
       "2018-04-28     7.00\n",
       "2018-04-29    12.00\n",
       "2018-04-30    23.25\n",
       "2018-05-01    14.00\n",
       "2018-05-02    14.00\n",
       "2018-05-03    15.50\n",
       "2018-05-04     9.00\n",
       "2018-05-05     8.50\n",
       "2018-05-06    20.00\n",
       "2018-05-07    24.00\n",
       "2018-05-08    13.00\n",
       "2018-05-09    18.00\n",
       "2018-05-10    16.50\n",
       "2018-05-11    17.00\n",
       "2018-05-12     7.50\n",
       "2018-05-13     8.00\n",
       "2018-05-14    12.00\n",
       "2018-05-15     7.00\n",
       "2018-05-16    18.00\n",
       "Freq: D, Name: Amount, Length: 279, dtype: float64"
      ]
     },
     "execution_count": 29,
     "metadata": {},
     "output_type": "execute_result"
    }
   ],
   "source": [
    "df1D.Amount"
   ]
  },
  {
   "cell_type": "code",
   "execution_count": 41,
   "metadata": {},
   "outputs": [],
   "source": [
    "%matplotlib inline\n",
    "import matplotlib.pyplot as plt\n",
    "plt.rcParams['figure.figsize'] = (10,6)"
   ]
  },
  {
   "cell_type": "code",
   "execution_count": 45,
   "metadata": {},
   "outputs": [
    {
     "data": {
      "text/plain": [
       "<matplotlib.axes._subplots.AxesSubplot at 0x1152e9630>"
      ]
     },
     "execution_count": 45,
     "metadata": {},
     "output_type": "execute_result"
    },
    {
     "data": {
      "image/png": "[encoded data removed]",
      "text/plain": [
       "<matplotlib.figure.Figure at 0x114dc3f28>"
      ]
     },
     "metadata": {},
     "output_type": "display_data"
    }
   ],
   "source": [
    "df1D.plot.bar(figsize=(50,6))"
   ]
  },
  {
   "cell_type": "code",
   "execution_count": 43,
   "metadata": {},
   "outputs": [
    {
     "data": {
      "text/plain": [
       "<matplotlib.axes._subplots.AxesSubplot at 0x114f384a8>"
      ]
     },
     "execution_count": 43,
     "metadata": {},
     "output_type": "execute_result"
    },
    {
     "data": {
      "image/png": "[encoded data removed]",
      "text/plain": [
       "<matplotlib.figure.Figure at 0x114f6b2e8>"
      ]
     },
     "metadata": {},
     "output_type": "display_data"
    }
   ],
   "source": [
    "df1D.plot.box()"
   ]
  },
  {
   "cell_type": "code",
   "execution_count": 106,
   "metadata": {},
   "outputs": [],
   "source": [
    "fnamepumped = path.expanduser('/Users/elishatam/Documents/Repos/python-projects/Ben Baby Tracker/data/Benjamin Erlien_pumped_removeparagraphs.csv')\n",
    "#!head \"$fnamepumped\"\n",
    "dfpumped = pd.read_csv(fnamepumped, parse_dates=['Time'])\n",
    "#dfpumped.dtypes\n",
    "dfpumped.Amount = dfpumped.Amount.str.replace('oz.', '')\n",
    "dfpumped.Amount = pd.to_numeric(dfpumped.Amount)\n",
    "#dfpumped.Amount.sum()\n",
    "dfpumped.index=dfpumped['Time']"
   ]
  },
  {
   "cell_type": "code",
   "execution_count": 108,
   "metadata": {},
   "outputs": [],
   "source": [
    "dfpumped1D = dfpumped.resample('1D').sum()"
   ]
  },
  {
   "cell_type": "code",
   "execution_count": 111,
   "metadata": {},
   "outputs": [
    {
     "data": {
      "text/html": [
       "<div>\n",
       "<style scoped>\n",
       "    .dataframe tbody tr th:only-of-type {\n",
       "        vertical-align: middle;\n",
       "    }\n",
       "\n",
       "    .dataframe tbody tr th {\n",
       "        vertical-align: top;\n",
       "    }\n",
       "\n",
       "    .dataframe thead th {\n",
       "        text-align: right;\n",
       "    }\n",
       "</style>\n",
       "<table border=\"1\" class=\"dataframe\">\n",
       "  <thead>\n",
       "    <tr style=\"text-align: right;\">\n",
       "      <th></th>\n",
       "      <th>Amount</th>\n",
       "    </tr>\n",
       "    <tr>\n",
       "      <th>Time</th>\n",
       "      <th></th>\n",
       "    </tr>\n",
       "  </thead>\n",
       "  <tbody>\n",
       "    <tr>\n",
       "      <th>2017-08-08</th>\n",
       "      <td>0.95</td>\n",
       "    </tr>\n",
       "    <tr>\n",
       "      <th>2017-08-09</th>\n",
       "      <td>1.20</td>\n",
       "    </tr>\n",
       "    <tr>\n",
       "      <th>2017-08-10</th>\n",
       "      <td>1.70</td>\n",
       "    </tr>\n",
       "    <tr>\n",
       "      <th>2017-08-11</th>\n",
       "      <td>3.50</td>\n",
       "    </tr>\n",
       "    <tr>\n",
       "      <th>2017-08-12</th>\n",
       "      <td>1.70</td>\n",
       "    </tr>\n",
       "  </tbody>\n",
       "</table>\n",
       "</div>"
      ],
      "text/plain": [
       "            Amount\n",
       "Time              \n",
       "2017-08-08    0.95\n",
       "2017-08-09    1.20\n",
       "2017-08-10    1.70\n",
       "2017-08-11    3.50\n",
       "2017-08-12    1.70"
      ]
     },
     "execution_count": 111,
     "metadata": {},
     "output_type": "execute_result"
    }
   ],
   "source": [
    "dfpumped1D.head()"
   ]
  },
  {
   "cell_type": "code",
   "execution_count": 112,
   "metadata": {},
   "outputs": [
    {
     "data": {
      "text/plain": [
       "<matplotlib.axes._subplots.AxesSubplot at 0x116a9b0f0>"
      ]
     },
     "execution_count": 112,
     "metadata": {},
     "output_type": "execute_result"
    },
    {
     "data": {
      "image/png": "[encoded data removed]",
      "text/plain": [
       "<matplotlib.figure.Figure at 0x116a9b3c8>"
      ]
     },
     "metadata": {},
     "output_type": "display_data"
    }
   ],
   "source": [
    "dfpumped1D.plot.bar(figsize=(50,6))"
   ]
  },
  {
   "cell_type": "code",
   "execution_count": null,
   "metadata": {},
   "outputs": [],
   "source": []
  }
 ],
 "metadata": {
  "kernelspec": {
   "display_name": "Python 3",
   "language": "python",
   "name": "python3"
  },
  "language_info": {
   "codemirror_mode": {
    "name": "ipython",
    "version": 3
   },
   "file_extension": ".py",
   "mimetype": "text/x-python",
   "name": "python",
   "nbconvert_exporter": "python",
   "pygments_lexer": "ipython3",
   "version": "3.6.4"
  }
 },
 "nbformat": 4,
 "nbformat_minor": 2
}
