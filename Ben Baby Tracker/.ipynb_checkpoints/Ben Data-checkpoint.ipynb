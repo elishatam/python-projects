{
 "cells": [
  {
   "cell_type": "code",
   "execution_count": 1,
   "metadata": {},
   "outputs": [],
   "source": [
    "from os import path\n",
    "fname = path.expanduser('/Users/elishatam/Documents/Repos/python-projects/Ben Baby Tracker/data/Benjamin Erlien_formula_ET.csv')"
   ]
  },
  {
   "cell_type": "code",
   "execution_count": 2,
   "metadata": {},
   "outputs": [
    {
     "name": "stdout",
     "output_type": "stream",
     "text": [
      "-rwxr-xr-x@ 1 elishatam  staff   750B May 17 20:35 \u001b[31m/Users/elishatam/Documents/Repos/python-projects/Ben Baby Tracker/data/Benjamin Erlien_formula_ET.csv\u001b[m\u001b[m\r\n"
     ]
    }
   ],
   "source": [
    "!ls -lh \"$fname\""
   ]
  },
  {
   "cell_type": "code",
   "execution_count": 3,
   "metadata": {},
   "outputs": [
    {
     "data": {
      "text/plain": [
       "0.732421875"
      ]
     },
     "execution_count": 3,
     "metadata": {},
     "output_type": "execute_result"
    }
   ],
   "source": [
    "path.getsize(fname) / (1<<10)"
   ]
  },
  {
   "cell_type": "code",
   "execution_count": 4,
   "metadata": {},
   "outputs": [
    {
     "name": "stdout",
     "output_type": "stream",
     "text": [
      "Baby,Time,Amount,Note\r\n",
      "Benjamin Erlien,\"8/11/17, 12:04 PM\",1 oz.,\r\n",
      "Benjamin Erlien,\"8/11/17, 7:13 PM\",1.5 oz.,\r\n",
      "Benjamin Erlien,\"8/12/17, 8:10 AM\",1.9 oz.,\r\n",
      "Benjamin Erlien,\"8/12/17, 2:15 PM\",1.5 oz.,\r\n",
      "Benjamin Erlien,\"8/12/17, 9:15 PM\",1.7 oz.,\r\n",
      "Benjamin Erlien,\"8/13/17, 8:45 AM\",1.95 oz.,\r\n",
      "Benjamin Erlien,\"8/13/17, 3:12 PM\",1.3 oz.,\r\n",
      "Benjamin Erlien,\"8/18/17, 2:27 AM\",2 oz.,\r\n",
      "Benjamin Erlien,\"8/19/17, 1:05 AM\",1.7 oz.,\r\n"
     ]
    }
   ],
   "source": [
    "!head \"$fname\""
   ]
  },
  {
   "cell_type": "code",
   "execution_count": 5,
   "metadata": {},
   "outputs": [],
   "source": [
    "import pandas as pd"
   ]
  },
  {
   "cell_type": "code",
   "execution_count": 6,
   "metadata": {},
   "outputs": [],
   "source": [
    "df = pd.read_csv(fname)"
   ]
  },
  {
   "cell_type": "code",
   "execution_count": 7,
   "metadata": {},
   "outputs": [
    {
     "data": {
      "text/plain": [
       "15"
      ]
     },
     "execution_count": 7,
     "metadata": {},
     "output_type": "execute_result"
    }
   ],
   "source": [
    "len(df)"
   ]
  },
  {
   "cell_type": "code",
   "execution_count": 8,
   "metadata": {},
   "outputs": [
    {
     "data": {
      "text/plain": [
       "Index(['Baby', 'Time', 'Amount', 'Note'], dtype='object')"
      ]
     },
     "execution_count": 8,
     "metadata": {},
     "output_type": "execute_result"
    }
   ],
   "source": [
    "df.columns"
   ]
  },
  {
   "cell_type": "code",
   "execution_count": 9,
   "metadata": {},
   "outputs": [
    {
     "name": "stdout",
     "output_type": "stream",
     "text": [
      "<class 'pandas.core.frame.DataFrame'>\n",
      "RangeIndex: 15 entries, 0 to 14\n",
      "Data columns (total 4 columns):\n",
      "Baby      15 non-null object\n",
      "Time      15 non-null object\n",
      "Amount    15 non-null object\n",
      "Note      2 non-null object\n",
      "dtypes: object(4)\n",
      "memory usage: 560.0+ bytes\n"
     ]
    }
   ],
   "source": [
    "df.info()"
   ]
  },
  {
   "cell_type": "code",
   "execution_count": 10,
   "metadata": {},
   "outputs": [
    {
     "data": {
      "text/html": [
       "<div>\n",
       "<style scoped>\n",
       "    .dataframe tbody tr th:only-of-type {\n",
       "        vertical-align: middle;\n",
       "    }\n",
       "\n",
       "    .dataframe tbody tr th {\n",
       "        vertical-align: top;\n",
       "    }\n",
       "\n",
       "    .dataframe thead th {\n",
       "        text-align: right;\n",
       "    }\n",
       "</style>\n",
       "<table border=\"1\" class=\"dataframe\">\n",
       "  <thead>\n",
       "    <tr style=\"text-align: right;\">\n",
       "      <th></th>\n",
       "      <th>Baby</th>\n",
       "      <th>Time</th>\n",
       "      <th>Amount</th>\n",
       "      <th>Note</th>\n",
       "    </tr>\n",
       "  </thead>\n",
       "  <tbody>\n",
       "    <tr>\n",
       "      <th>0</th>\n",
       "      <td>Benjamin Erlien</td>\n",
       "      <td>8/11/17, 12:04 PM</td>\n",
       "      <td>1 oz.</td>\n",
       "      <td>NaN</td>\n",
       "    </tr>\n",
       "    <tr>\n",
       "      <th>1</th>\n",
       "      <td>Benjamin Erlien</td>\n",
       "      <td>8/11/17, 7:13 PM</td>\n",
       "      <td>1.5 oz.</td>\n",
       "      <td>NaN</td>\n",
       "    </tr>\n",
       "    <tr>\n",
       "      <th>2</th>\n",
       "      <td>Benjamin Erlien</td>\n",
       "      <td>8/12/17, 8:10 AM</td>\n",
       "      <td>1.9 oz.</td>\n",
       "      <td>NaN</td>\n",
       "    </tr>\n",
       "    <tr>\n",
       "      <th>3</th>\n",
       "      <td>Benjamin Erlien</td>\n",
       "      <td>8/12/17, 2:15 PM</td>\n",
       "      <td>1.5 oz.</td>\n",
       "      <td>NaN</td>\n",
       "    </tr>\n",
       "    <tr>\n",
       "      <th>4</th>\n",
       "      <td>Benjamin Erlien</td>\n",
       "      <td>8/12/17, 9:15 PM</td>\n",
       "      <td>1.7 oz.</td>\n",
       "      <td>NaN</td>\n",
       "    </tr>\n",
       "  </tbody>\n",
       "</table>\n",
       "</div>"
      ],
      "text/plain": [
       "              Baby               Time   Amount Note\n",
       "0  Benjamin Erlien  8/11/17, 12:04 PM    1 oz.  NaN\n",
       "1  Benjamin Erlien   8/11/17, 7:13 PM  1.5 oz.  NaN\n",
       "2  Benjamin Erlien   8/12/17, 8:10 AM  1.9 oz.  NaN\n",
       "3  Benjamin Erlien   8/12/17, 2:15 PM  1.5 oz.  NaN\n",
       "4  Benjamin Erlien   8/12/17, 9:15 PM  1.7 oz.  NaN"
      ]
     },
     "execution_count": 10,
     "metadata": {},
     "output_type": "execute_result"
    }
   ],
   "source": [
    "df.head()"
   ]
  },
  {
   "cell_type": "code",
   "execution_count": 11,
   "metadata": {},
   "outputs": [
    {
     "data": {
      "text/plain": [
       "Baby      object\n",
       "Time      object\n",
       "Amount    object\n",
       "Note      object\n",
       "dtype: object"
      ]
     },
     "execution_count": 11,
     "metadata": {},
     "output_type": "execute_result"
    }
   ],
   "source": [
    "df.dtypes"
   ]
  },
  {
   "cell_type": "code",
   "execution_count": 12,
   "metadata": {},
   "outputs": [],
   "source": [
    "df = pd.read_csv(fname, parse_dates=['Time'])"
   ]
  },
  {
   "cell_type": "code",
   "execution_count": 13,
   "metadata": {},
   "outputs": [
    {
     "data": {
      "text/plain": [
       "Baby              object\n",
       "Time      datetime64[ns]\n",
       "Amount            object\n",
       "Note              object\n",
       "dtype: object"
      ]
     },
     "execution_count": 13,
     "metadata": {},
     "output_type": "execute_result"
    }
   ],
   "source": [
    "df.dtypes"
   ]
  },
  {
   "cell_type": "code",
   "execution_count": 14,
   "metadata": {},
   "outputs": [
    {
     "data": {
      "text/plain": [
       "0    2017-08-11 12:04:00\n",
       "1    2017-08-11 19:13:00\n",
       "2    2017-08-12 08:10:00\n",
       "3    2017-08-12 14:15:00\n",
       "4    2017-08-12 21:15:00\n",
       "5    2017-08-13 08:45:00\n",
       "6    2017-08-13 15:12:00\n",
       "7    2017-08-18 02:27:00\n",
       "8    2017-08-19 01:05:00\n",
       "9    2017-08-22 11:00:00\n",
       "10   2017-08-22 23:15:00\n",
       "11   2017-08-23 07:05:00\n",
       "12   2017-08-23 23:08:00\n",
       "13   2017-08-24 06:39:00\n",
       "14   2017-08-24 10:00:00\n",
       "Name: Time, dtype: datetime64[ns]"
      ]
     },
     "execution_count": 14,
     "metadata": {},
     "output_type": "execute_result"
    }
   ],
   "source": [
    "df.Time"
   ]
  },
  {
   "cell_type": "code",
   "execution_count": 15,
   "metadata": {},
   "outputs": [
    {
     "data": {
      "text/plain": [
       "RangeIndex(start=0, stop=15, step=1)"
      ]
     },
     "execution_count": 15,
     "metadata": {},
     "output_type": "execute_result"
    }
   ],
   "source": [
    "df.index"
   ]
  },
  {
   "cell_type": "code",
   "execution_count": 16,
   "metadata": {},
   "outputs": [
    {
     "data": {
      "text/plain": [
       "0        1 oz.\n",
       "1      1.5 oz.\n",
       "2      1.9 oz.\n",
       "3      1.5 oz.\n",
       "4      1.7 oz.\n",
       "5     1.95 oz.\n",
       "6      1.3 oz.\n",
       "7        2 oz.\n",
       "8      1.7 oz.\n",
       "9        3 oz.\n",
       "10       2 oz.\n",
       "11     2.5 oz.\n",
       "12     2.8 oz.\n",
       "13     1.5 oz.\n",
       "14     .75 oz.\n",
       "Name: Amount, dtype: object"
      ]
     },
     "execution_count": 16,
     "metadata": {},
     "output_type": "execute_result"
    }
   ],
   "source": [
    "df.Amount"
   ]
  },
  {
   "cell_type": "code",
   "execution_count": 17,
   "metadata": {},
   "outputs": [
    {
     "data": {
      "text/plain": [
       "'1 oz.1.5 oz.1.9 oz.1.5 oz.1.7 oz.1.95 oz.1.3 oz.2 oz.1.7 oz.3 oz.2 oz.2.5 oz.2.8 oz.1.5 oz..75 oz.'"
      ]
     },
     "execution_count": 17,
     "metadata": {},
     "output_type": "execute_result"
    }
   ],
   "source": [
    "df.Amount.sum()"
   ]
  },
  {
   "cell_type": "markdown",
   "metadata": {},
   "source": [
    "To remove 'oz.' from column, do this:\n",
    "   df['Column2'] = df.Column2.str.replace('b,?' , '')\n",
    "   \n",
    "Reference: https://stackoverflow.com/questions/33413249/how-to-remove-string-value-from-column-in-pandas-dataframe"
   ]
  },
  {
   "cell_type": "code",
   "execution_count": 18,
   "metadata": {},
   "outputs": [],
   "source": [
    "df.Amount = df.Amount.str.replace('oz.', '')"
   ]
  },
  {
   "cell_type": "code",
   "execution_count": 19,
   "metadata": {},
   "outputs": [
    {
     "data": {
      "text/plain": [
       "0        1 \n",
       "1      1.5 \n",
       "2      1.9 \n",
       "3      1.5 \n",
       "4      1.7 \n",
       "5     1.95 \n",
       "6      1.3 \n",
       "7        2 \n",
       "8      1.7 \n",
       "9        3 \n",
       "10       2 \n",
       "11     2.5 \n",
       "12     2.8 \n",
       "13     1.5 \n",
       "14     .75 \n",
       "Name: Amount, dtype: object"
      ]
     },
     "execution_count": 19,
     "metadata": {},
     "output_type": "execute_result"
    }
   ],
   "source": [
    "df.Amount"
   ]
  },
  {
   "cell_type": "code",
   "execution_count": 20,
   "metadata": {},
   "outputs": [
    {
     "name": "stderr",
     "output_type": "stream",
     "text": [
      "/anaconda3/lib/python3.6/site-packages/ipykernel_launcher.py:1: FutureWarning: convert_objects is deprecated.  To re-infer data dtypes for object columns, use Series.infer_objects()\n",
      "For all other conversions use the data-type specific converters pd.to_datetime, pd.to_timedelta and pd.to_numeric.\n",
      "  \"\"\"Entry point for launching an IPython kernel.\n"
     ]
    },
    {
     "data": {
      "text/plain": [
       "0     1.00\n",
       "1     1.50\n",
       "2     1.90\n",
       "3     1.50\n",
       "4     1.70\n",
       "5     1.95\n",
       "6     1.30\n",
       "7     2.00\n",
       "8     1.70\n",
       "9     3.00\n",
       "10    2.00\n",
       "11    2.50\n",
       "12    2.80\n",
       "13    1.50\n",
       "14    0.75\n",
       "Name: Amount, dtype: float64"
      ]
     },
     "execution_count": 20,
     "metadata": {},
     "output_type": "execute_result"
    }
   ],
   "source": [
    "df.Amount.convert_objects(convert_numeric=True)"
   ]
  },
  {
   "cell_type": "markdown",
   "metadata": {},
   "source": [
    "http://pandas.pydata.org/pandas-docs/version/0.19/generated/pandas.to_numeric.html"
   ]
  },
  {
   "cell_type": "code",
   "execution_count": 21,
   "metadata": {},
   "outputs": [],
   "source": [
    "df.Amount = pd.to_numeric(df.Amount)"
   ]
  },
  {
   "cell_type": "code",
   "execution_count": 22,
   "metadata": {},
   "outputs": [
    {
     "data": {
      "text/plain": [
       "Baby              object\n",
       "Time      datetime64[ns]\n",
       "Amount           float64\n",
       "Note              object\n",
       "dtype: object"
      ]
     },
     "execution_count": 22,
     "metadata": {},
     "output_type": "execute_result"
    }
   ],
   "source": [
    "df.dtypes"
   ]
  },
  {
   "cell_type": "code",
   "execution_count": 23,
   "metadata": {},
   "outputs": [
    {
     "data": {
      "text/plain": [
       "27.099999999999998"
      ]
     },
     "execution_count": 23,
     "metadata": {},
     "output_type": "execute_result"
    }
   ],
   "source": [
    "df.Amount.sum()"
   ]
  },
  {
   "cell_type": "code",
   "execution_count": 24,
   "metadata": {},
   "outputs": [
    {
     "data": {
      "text/html": [
       "<div>\n",
       "<style scoped>\n",
       "    .dataframe tbody tr th:only-of-type {\n",
       "        vertical-align: middle;\n",
       "    }\n",
       "\n",
       "    .dataframe tbody tr th {\n",
       "        vertical-align: top;\n",
       "    }\n",
       "\n",
       "    .dataframe thead th {\n",
       "        text-align: right;\n",
       "    }\n",
       "</style>\n",
       "<table border=\"1\" class=\"dataframe\">\n",
       "  <thead>\n",
       "    <tr style=\"text-align: right;\">\n",
       "      <th></th>\n",
       "      <th>Baby</th>\n",
       "      <th>Time</th>\n",
       "      <th>Amount</th>\n",
       "      <th>Note</th>\n",
       "    </tr>\n",
       "  </thead>\n",
       "  <tbody>\n",
       "    <tr>\n",
       "      <th>0</th>\n",
       "      <td>Benjamin Erlien</td>\n",
       "      <td>2017-08-11 12:04:00</td>\n",
       "      <td>1.0</td>\n",
       "      <td>NaN</td>\n",
       "    </tr>\n",
       "    <tr>\n",
       "      <th>1</th>\n",
       "      <td>Benjamin Erlien</td>\n",
       "      <td>2017-08-11 19:13:00</td>\n",
       "      <td>1.5</td>\n",
       "      <td>NaN</td>\n",
       "    </tr>\n",
       "    <tr>\n",
       "      <th>2</th>\n",
       "      <td>Benjamin Erlien</td>\n",
       "      <td>2017-08-12 08:10:00</td>\n",
       "      <td>1.9</td>\n",
       "      <td>NaN</td>\n",
       "    </tr>\n",
       "    <tr>\n",
       "      <th>3</th>\n",
       "      <td>Benjamin Erlien</td>\n",
       "      <td>2017-08-12 14:15:00</td>\n",
       "      <td>1.5</td>\n",
       "      <td>NaN</td>\n",
       "    </tr>\n",
       "    <tr>\n",
       "      <th>4</th>\n",
       "      <td>Benjamin Erlien</td>\n",
       "      <td>2017-08-12 21:15:00</td>\n",
       "      <td>1.7</td>\n",
       "      <td>NaN</td>\n",
       "    </tr>\n",
       "  </tbody>\n",
       "</table>\n",
       "</div>"
      ],
      "text/plain": [
       "              Baby                Time  Amount Note\n",
       "0  Benjamin Erlien 2017-08-11 12:04:00     1.0  NaN\n",
       "1  Benjamin Erlien 2017-08-11 19:13:00     1.5  NaN\n",
       "2  Benjamin Erlien 2017-08-12 08:10:00     1.9  NaN\n",
       "3  Benjamin Erlien 2017-08-12 14:15:00     1.5  NaN\n",
       "4  Benjamin Erlien 2017-08-12 21:15:00     1.7  NaN"
      ]
     },
     "execution_count": 24,
     "metadata": {},
     "output_type": "execute_result"
    }
   ],
   "source": [
    "df.head()"
   ]
  },
  {
   "cell_type": "markdown",
   "metadata": {},
   "source": [
    "https://stackoverflow.com/questions/35339139/where-is-the-documentation-on-pandas-freq-tags"
   ]
  },
  {
   "cell_type": "code",
   "execution_count": 25,
   "metadata": {},
   "outputs": [],
   "source": [
    "df.index=df['Time']"
   ]
  },
  {
   "cell_type": "code",
   "execution_count": 26,
   "metadata": {},
   "outputs": [
    {
     "data": {
      "text/plain": [
       "DatetimeIndex(['2017-08-11 12:04:00', '2017-08-11 19:13:00',\n",
       "               '2017-08-12 08:10:00', '2017-08-12 14:15:00',\n",
       "               '2017-08-12 21:15:00', '2017-08-13 08:45:00',\n",
       "               '2017-08-13 15:12:00', '2017-08-18 02:27:00',\n",
       "               '2017-08-19 01:05:00', '2017-08-22 11:00:00',\n",
       "               '2017-08-22 23:15:00', '2017-08-23 07:05:00',\n",
       "               '2017-08-23 23:08:00', '2017-08-24 06:39:00',\n",
       "               '2017-08-24 10:00:00'],\n",
       "              dtype='datetime64[ns]', name='Time', freq=None)"
      ]
     },
     "execution_count": 26,
     "metadata": {},
     "output_type": "execute_result"
    }
   ],
   "source": [
    "df.index"
   ]
  },
  {
   "cell_type": "code",
   "execution_count": 27,
   "metadata": {},
   "outputs": [
    {
     "data": {
      "text/html": [
       "<div>\n",
       "<style scoped>\n",
       "    .dataframe tbody tr th:only-of-type {\n",
       "        vertical-align: middle;\n",
       "    }\n",
       "\n",
       "    .dataframe tbody tr th {\n",
       "        vertical-align: top;\n",
       "    }\n",
       "\n",
       "    .dataframe thead th {\n",
       "        text-align: right;\n",
       "    }\n",
       "</style>\n",
       "<table border=\"1\" class=\"dataframe\">\n",
       "  <thead>\n",
       "    <tr style=\"text-align: right;\">\n",
       "      <th></th>\n",
       "      <th>Baby</th>\n",
       "      <th>Time</th>\n",
       "      <th>Amount</th>\n",
       "      <th>Note</th>\n",
       "    </tr>\n",
       "    <tr>\n",
       "      <th>Time</th>\n",
       "      <th></th>\n",
       "      <th></th>\n",
       "      <th></th>\n",
       "      <th></th>\n",
       "    </tr>\n",
       "  </thead>\n",
       "  <tbody>\n",
       "    <tr>\n",
       "      <th>2017-08-11 12:04:00</th>\n",
       "      <td>Benjamin Erlien</td>\n",
       "      <td>2017-08-11 12:04:00</td>\n",
       "      <td>1.0</td>\n",
       "      <td>NaN</td>\n",
       "    </tr>\n",
       "    <tr>\n",
       "      <th>2017-08-11 19:13:00</th>\n",
       "      <td>Benjamin Erlien</td>\n",
       "      <td>2017-08-11 19:13:00</td>\n",
       "      <td>1.5</td>\n",
       "      <td>NaN</td>\n",
       "    </tr>\n",
       "    <tr>\n",
       "      <th>2017-08-12 08:10:00</th>\n",
       "      <td>Benjamin Erlien</td>\n",
       "      <td>2017-08-12 08:10:00</td>\n",
       "      <td>1.9</td>\n",
       "      <td>NaN</td>\n",
       "    </tr>\n",
       "    <tr>\n",
       "      <th>2017-08-12 14:15:00</th>\n",
       "      <td>Benjamin Erlien</td>\n",
       "      <td>2017-08-12 14:15:00</td>\n",
       "      <td>1.5</td>\n",
       "      <td>NaN</td>\n",
       "    </tr>\n",
       "    <tr>\n",
       "      <th>2017-08-12 21:15:00</th>\n",
       "      <td>Benjamin Erlien</td>\n",
       "      <td>2017-08-12 21:15:00</td>\n",
       "      <td>1.7</td>\n",
       "      <td>NaN</td>\n",
       "    </tr>\n",
       "  </tbody>\n",
       "</table>\n",
       "</div>"
      ],
      "text/plain": [
       "                                Baby                Time  Amount Note\n",
       "Time                                                                 \n",
       "2017-08-11 12:04:00  Benjamin Erlien 2017-08-11 12:04:00     1.0  NaN\n",
       "2017-08-11 19:13:00  Benjamin Erlien 2017-08-11 19:13:00     1.5  NaN\n",
       "2017-08-12 08:10:00  Benjamin Erlien 2017-08-12 08:10:00     1.9  NaN\n",
       "2017-08-12 14:15:00  Benjamin Erlien 2017-08-12 14:15:00     1.5  NaN\n",
       "2017-08-12 21:15:00  Benjamin Erlien 2017-08-12 21:15:00     1.7  NaN"
      ]
     },
     "execution_count": 27,
     "metadata": {},
     "output_type": "execute_result"
    }
   ],
   "source": [
    "df.head()"
   ]
  },
  {
   "cell_type": "code",
   "execution_count": 28,
   "metadata": {},
   "outputs": [],
   "source": [
    "df1D = df.resample('1D').sum()"
   ]
  },
  {
   "cell_type": "code",
   "execution_count": 29,
   "metadata": {},
   "outputs": [
    {
     "data": {
      "text/plain": [
       "Time\n",
       "2017-08-11    2.50\n",
       "2017-08-12    5.10\n",
       "2017-08-13    3.25\n",
       "2017-08-14    0.00\n",
       "2017-08-15    0.00\n",
       "2017-08-16    0.00\n",
       "2017-08-17    0.00\n",
       "2017-08-18    2.00\n",
       "2017-08-19    1.70\n",
       "2017-08-20    0.00\n",
       "2017-08-21    0.00\n",
       "2017-08-22    5.00\n",
       "2017-08-23    5.30\n",
       "2017-08-24    2.25\n",
       "Freq: D, Name: Amount, dtype: float64"
      ]
     },
     "execution_count": 29,
     "metadata": {},
     "output_type": "execute_result"
    }
   ],
   "source": [
    "df1D.Amount"
   ]
  },
  {
   "cell_type": "code",
   "execution_count": 30,
   "metadata": {},
   "outputs": [],
   "source": [
    "%matplotlib inline\n",
    "import matplotlib.pyplot as plt"
   ]
  },
  {
   "cell_type": "code",
   "execution_count": 31,
   "metadata": {},
   "outputs": [
    {
     "data": {
      "text/plain": [
       "<matplotlib.axes._subplots.AxesSubplot at 0x115638b38>"
      ]
     },
     "execution_count": 31,
     "metadata": {},
     "output_type": "execute_result"
    },
    {
     "data": {
      "image/png": "[encoded data removed]",
      "text/plain": [
       "<matplotlib.figure.Figure at 0x114ca8c18>"
      ]
     },
     "metadata": {},
     "output_type": "display_data"
    }
   ],
   "source": [
    "df1D.plot.bar()"
   ]
  },
  {
   "cell_type": "code",
   "execution_count": 32,
   "metadata": {},
   "outputs": [
    {
     "data": {
      "text/plain": [
       "<matplotlib.axes._subplots.AxesSubplot at 0x114c86470>"
      ]
     },
     "execution_count": 32,
     "metadata": {},
     "output_type": "execute_result"
    },
    {
     "data": {
      "image/png": "[encoded data removed]",
      "text/plain": [
       "<matplotlib.figure.Figure at 0x115658860>"
      ]
     },
     "metadata": {},
     "output_type": "display_data"
    }
   ],
   "source": [
    "df1D.plot.box()"
   ]
  },
  {
   "cell_type": "code",
   "execution_count": null,
   "metadata": {},
   "outputs": [],
   "source": []
  }
 ],
 "metadata": {
  "kernelspec": {
   "display_name": "Python 3",
   "language": "python",
   "name": "python3"
  },
  "language_info": {
   "codemirror_mode": {
    "name": "ipython",
    "version": 3
   },
   "file_extension": ".py",
   "mimetype": "text/x-python",
   "name": "python",
   "nbconvert_exporter": "python",
   "pygments_lexer": "ipython3",
   "version": "3.6.4"
  }
 },
 "nbformat": 4,
 "nbformat_minor": 2
}
