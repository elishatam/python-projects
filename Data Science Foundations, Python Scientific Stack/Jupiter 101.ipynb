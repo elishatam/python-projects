{
 "cells": [
  {
   "cell_type": "code",
   "execution_count": 1,
   "metadata": {},
   "outputs": [
    {
     "data": {
      "text/plain": [
       "42"
      ]
     },
     "execution_count": 1,
     "metadata": {},
     "output_type": "execute_result"
    }
   ],
   "source": [
    "40+2"
   ]
  },
  {
   "cell_type": "code",
   "execution_count": null,
   "metadata": {},
   "outputs": [],
   "source": []
  },
  {
   "cell_type": "code",
   "execution_count": 2,
   "metadata": {},
   "outputs": [],
   "source": [
    "import numpy as np"
   ]
  },
  {
   "cell_type": "code",
   "execution_count": 3,
   "metadata": {},
   "outputs": [
    {
     "data": {
      "text/plain": [
       "42"
      ]
     },
     "execution_count": 3,
     "metadata": {},
     "output_type": "execute_result"
    }
   ],
   "source": [
    "Out[1]"
   ]
  },
  {
   "cell_type": "code",
   "execution_count": 4,
   "metadata": {},
   "outputs": [],
   "source": [
    "x = Out[1]"
   ]
  },
  {
   "cell_type": "code",
   "execution_count": 5,
   "metadata": {},
   "outputs": [
    {
     "data": {
      "text/plain": [
       "42"
      ]
     },
     "execution_count": 5,
     "metadata": {},
     "output_type": "execute_result"
    }
   ],
   "source": [
    "x"
   ]
  },
  {
   "cell_type": "code",
   "execution_count": 6,
   "metadata": {},
   "outputs": [
    {
     "data": {
      "text/plain": [
       "0.8939966636005579"
      ]
     },
     "execution_count": 6,
     "metadata": {},
     "output_type": "execute_result"
    }
   ],
   "source": [
    "np.sin(90)"
   ]
  },
  {
   "cell_type": "code",
   "execution_count": 7,
   "metadata": {},
   "outputs": [],
   "source": [
    "np.sin?"
   ]
  },
  {
   "cell_type": "code",
   "execution_count": 8,
   "metadata": {},
   "outputs": [
    {
     "data": {
      "text/plain": [
       "'/Users/elishatam'"
      ]
     },
     "execution_count": 8,
     "metadata": {},
     "output_type": "execute_result"
    }
   ],
   "source": [
    "%pwd"
   ]
  },
  {
   "cell_type": "code",
   "execution_count": 9,
   "metadata": {},
   "outputs": [
    {
     "name": "stdout",
     "output_type": "stream",
     "text": [
      "-0.9589242746631385\n",
      "-0.9589242746631385\n",
      "-0.9589242746631385\n",
      "-0.9589242746631385\n",
      "-0.9589242746631385\n",
      "CPU times: user 269 µs, sys: 155 µs, total: 424 µs\n",
      "Wall time: 321 µs\n"
     ]
    }
   ],
   "source": [
    "%%time\n",
    "for i in range(5):\n",
    "    print(np.sin(5))"
   ]
  },
  {
   "cell_type": "code",
   "execution_count": 10,
   "metadata": {},
   "outputs": [],
   "source": [
    "%magic"
   ]
  },
  {
   "cell_type": "code",
   "execution_count": 11,
   "metadata": {},
   "outputs": [
    {
     "name": "stdout",
     "output_type": "stream",
     "text": [
      "\u001b[34mAnacondaProjects\u001b[m\u001b[m         \u001b[34mGoogle Drive\u001b[m\u001b[m             Untitled.ipynb\r\n",
      "\u001b[34mApplications\u001b[m\u001b[m             \u001b[34mLibrary\u001b[m\u001b[m                  Untitled1.ipynb\r\n",
      "\u001b[34mApplications (Parallels)\u001b[m\u001b[m \u001b[34mMovies\u001b[m\u001b[m                   \u001b[34mgit\u001b[m\u001b[m\r\n",
      "\u001b[34mDesktop\u001b[m\u001b[m                  \u001b[34mMusic\u001b[m\u001b[m                    \u001b[34mnode_modules\u001b[m\u001b[m\r\n",
      "\u001b[34mDocuments\u001b[m\u001b[m                \u001b[34mPictures\u001b[m\u001b[m                 \u001b[34mseaborn-data\u001b[m\u001b[m\r\n",
      "\u001b[34mDownloads\u001b[m\u001b[m                \u001b[34mPublic\u001b[m\u001b[m                   \u001b[34mvar\u001b[m\u001b[m\r\n",
      "\u001b[34mGoogle\u001b[m\u001b[m                   \u001b[34mSites\u001b[m\u001b[m\r\n"
     ]
    }
   ],
   "source": [
    "!ls"
   ]
  },
  {
   "cell_type": "code",
   "execution_count": 12,
   "metadata": {},
   "outputs": [
    {
     "name": "stdout",
     "output_type": "stream",
     "text": [
      "\u001b[34mBluetooth\u001b[m\u001b[m                         system.log.0.gz\r\n",
      "CDIS.custom                       system.log.1.gz\r\n",
      "\u001b[34mCoreDuet\u001b[m\u001b[m                          system.log.2.gz\r\n",
      "\u001b[34mDiagnosticMessages\u001b[m\u001b[m                system.log.3.gz\r\n",
      "SleepWakeStacks.bin               system.log.4.gz\r\n",
      "\u001b[31macroUpdaterTools.log\u001b[m\u001b[m              system.log.5.gz\r\n",
      "\u001b[34mapache2\u001b[m\u001b[m                           system.log.6.gz\r\n",
      "\u001b[34masl\u001b[m\u001b[m                               \u001b[34muucp\u001b[m\u001b[m\r\n",
      "\u001b[34mcom.apple.xpc.launchd\u001b[m\u001b[m             weekly.out\r\n",
      "corecaptured.log                  wifi-05-20-2018__15:39:12.819.log\r\n",
      "\u001b[34mcups\u001b[m\u001b[m                              wifi-05-20-2018__15:39:13.629.log\r\n",
      "daily.out                         wifi-05-21-2018__10:31:53.356.log\r\n",
      "\u001b[34mdisplaypolicy\u001b[m\u001b[m                     wifi.log\r\n",
      "displaypolicyd.stdout.log         wifi.log.0.bz2\r\n",
      "\u001b[34memond\u001b[m\u001b[m                             wifi.log.1.bz2\r\n",
      "fsck_apfs.log                     wifi.log.10.bz2\r\n",
      "fsck_hfs.log                      wifi.log.2.bz2\r\n",
      "hfs_convert.log                   wifi.log.3.bz2\r\n",
      "install.log                       wifi.log.4.bz2\r\n",
      "monthly.out                       wifi.log.5.bz2\r\n",
      "\u001b[34mpowermanagement\u001b[m\u001b[m                   wifi.log.6.bz2\r\n",
      "\u001b[34mppp\u001b[m\u001b[m                               wifi.log.7.bz2\r\n",
      "prl_disp_service_server.log       wifi.log.8.bz2\r\n",
      "system.log                        wifi.log.9.bz2\r\n"
     ]
    }
   ],
   "source": [
    "!ls /var/log"
   ]
  },
  {
   "cell_type": "code",
   "execution_count": 13,
   "metadata": {},
   "outputs": [
    {
     "ename": "SyntaxError",
     "evalue": "invalid character in identifier (<ipython-input-13-d5a80fe5dceb>, line 2)",
     "output_type": "error",
     "traceback": [
      "\u001b[0;36m  File \u001b[0;32m\"<ipython-input-13-d5a80fe5dceb>\"\u001b[0;36m, line \u001b[0;32m2\u001b[0m\n\u001b[0;31m    print(‘We have {} files at {}’.format(len(files), dir_name))\u001b[0m\n\u001b[0m            ^\u001b[0m\n\u001b[0;31mSyntaxError\u001b[0m\u001b[0;31m:\u001b[0m invalid character in identifier\n"
     ]
    }
   ],
   "source": [
    "files = !ls /var/log\n",
    "print(‘We have {} files at {}’.format(len(files), dir_name))"
   ]
  },
  {
   "cell_type": "code",
   "execution_count": 16,
   "metadata": {},
   "outputs": [
    {
     "name": "stdout",
     "output_type": "stream",
     "text": [
      "\u001b[34mBluetooth\u001b[m\u001b[m                         system.log.0.gz\r\n",
      "CDIS.custom                       system.log.1.gz\r\n",
      "\u001b[34mCoreDuet\u001b[m\u001b[m                          system.log.2.gz\r\n",
      "\u001b[34mDiagnosticMessages\u001b[m\u001b[m                system.log.3.gz\r\n",
      "SleepWakeStacks.bin               system.log.4.gz\r\n",
      "\u001b[31macroUpdaterTools.log\u001b[m\u001b[m              system.log.5.gz\r\n",
      "\u001b[34mapache2\u001b[m\u001b[m                           system.log.6.gz\r\n",
      "\u001b[34masl\u001b[m\u001b[m                               \u001b[34muucp\u001b[m\u001b[m\r\n",
      "\u001b[34mcom.apple.xpc.launchd\u001b[m\u001b[m             weekly.out\r\n",
      "corecaptured.log                  wifi-05-20-2018__15:39:12.819.log\r\n",
      "\u001b[34mcups\u001b[m\u001b[m                              wifi-05-20-2018__15:39:13.629.log\r\n",
      "daily.out                         wifi-05-21-2018__10:31:53.356.log\r\n",
      "\u001b[34mdisplaypolicy\u001b[m\u001b[m                     wifi.log\r\n",
      "displaypolicyd.stdout.log         wifi.log.0.bz2\r\n",
      "\u001b[34memond\u001b[m\u001b[m                             wifi.log.1.bz2\r\n",
      "fsck_apfs.log                     wifi.log.10.bz2\r\n",
      "fsck_hfs.log                      wifi.log.2.bz2\r\n",
      "hfs_convert.log                   wifi.log.3.bz2\r\n",
      "install.log                       wifi.log.4.bz2\r\n",
      "monthly.out                       wifi.log.5.bz2\r\n",
      "\u001b[34mpowermanagement\u001b[m\u001b[m                   wifi.log.6.bz2\r\n",
      "\u001b[34mppp\u001b[m\u001b[m                               wifi.log.7.bz2\r\n",
      "prl_disp_service_server.log       wifi.log.8.bz2\r\n",
      "system.log                        wifi.log.9.bz2\r\n"
     ]
    }
   ],
   "source": [
    "dir_name = '/var/log'\n",
    "!ls $dir_name"
   ]
  },
  {
   "cell_type": "code",
   "execution_count": 18,
   "metadata": {},
   "outputs": [
    {
     "name": "stdout",
     "output_type": "stream",
     "text": [
      "We have 48 files at /var/log\n"
     ]
    }
   ],
   "source": [
    "files = !ls /var/log\n",
    "print('We have {} files at {}'.format(len(files), dir_name))"
   ]
  },
  {
   "cell_type": "code",
   "execution_count": null,
   "metadata": {},
   "outputs": [],
   "source": []
  }
 ],
 "metadata": {
  "kernelspec": {
   "display_name": "Python 3",
   "language": "python",
   "name": "python3"
  },
  "language_info": {
   "codemirror_mode": {
    "name": "ipython",
    "version": 3
   },
   "file_extension": ".py",
   "mimetype": "text/x-python",
   "name": "python",
   "nbconvert_exporter": "python",
   "pygments_lexer": "ipython3",
   "version": "3.6.4"
  }
 },
 "nbformat": 4,
 "nbformat_minor": 2
}
